{
 "cells": [
  {
   "cell_type": "markdown",
   "id": "designing-heath",
   "metadata": {},
   "source": [
    "# Base 58 "
   ]
  },
  {
   "cell_type": "code",
   "execution_count": 24,
   "id": "quality-farmer",
   "metadata": {},
   "outputs": [],
   "source": [
    "BASE58_ALPHABET = '123456789ABCDEFGHJKLMNPQRSTUVWXYZabcdefghijkmnopqrstuvwxyz'"
   ]
  },
  {
   "cell_type": "code",
   "execution_count": 25,
   "id": "discrete-criterion",
   "metadata": {},
   "outputs": [],
   "source": [
    "def convert_dec_to_bytes(s):\n",
    "    # decimal to hex calculation\n",
    "    n = s.to_bytes(32,'big')\n",
    "    return n"
   ]
  },
  {
   "cell_type": "code",
   "execution_count": 1,
   "id": "catholic-telephone",
   "metadata": {},
   "outputs": [
    {
     "data": {
      "text/html": [
       "<img src=\"uploads/5000dec-to-hex.png\" width=\"300\" height=\"300\"/>"
      ],
      "text/plain": [
       "<IPython.core.display.Image object>"
      ]
     },
     "execution_count": 1,
     "metadata": {},
     "output_type": "execute_result"
    }
   ],
   "source": [
    "# import image module\n",
    "from IPython.display import Image \n",
    "# get the image\n",
    "Image(url=\"uploads/5000dec-to-hex.png\", width=300, height=300)"
   ]
  },
  {
   "cell_type": "code",
   "execution_count": 29,
   "id": "difficult-equipment",
   "metadata": {},
   "outputs": [
    {
     "name": "stdout",
     "output_type": "stream",
     "text": [
      "b'\\x00\\x00\\x00\\x00\\x00\\x00\\x00\\x00\\x00\\x00\\x00\\x00\\x00\\x00\\x00\\x00\\x00\\x00\\x00\\x00\\x00\\x00\\x00\\x00\\x00\\x00\\x00\\x00\\x00\\x00\\x13\\x88'\n"
     ]
    }
   ],
   "source": [
    "w = convert_dec_to_bytes(5000)\n",
    "print(w)"
   ]
  },
  {
   "cell_type": "code",
   "execution_count": 45,
   "id": "everyday-pilot",
   "metadata": {},
   "outputs": [
    {
     "name": "stdout",
     "output_type": "stream",
     "text": [
      "0000000000000000000000000000000000000000000000000000000000001388\n"
     ]
    }
   ],
   "source": [
    "# same value but more readable :\n",
    "from binascii import hexlify\n",
    "print(str(hexlify(w), \"utf-8\"))"
   ]
  },
  {
   "cell_type": "code",
   "execution_count": 34,
   "id": "requested-validation",
   "metadata": {},
   "outputs": [],
   "source": [
    "def encode_base58(s):\n",
    "    # hex to base58\n",
    "    count = 0\n",
    "    for c in s:  \n",
    "        if c == 0:\n",
    "            count += 1\n",
    "        else:\n",
    "            break\n",
    "    num = int.from_bytes(s, 'big')\n",
    "    prefix = '1' * count\n",
    "    result = ''\n",
    "    while num > 0:  \n",
    "        num, mod = divmod(num, 58)\n",
    "        print(f\"num = {num} and mod : {mod}\")\n",
    "        result = BASE58_ALPHABET[mod] + result\n",
    "        print(f\"b58 = {BASE58_ALPHABET[mod]}\")\n",
    "    return prefix + result "
   ]
  },
  {
   "cell_type": "code",
   "execution_count": 37,
   "id": "military-recipe",
   "metadata": {},
   "outputs": [
    {
     "data": {
      "text/plain": [
       "(86, 12)"
      ]
     },
     "execution_count": 37,
     "metadata": {},
     "output_type": "execute_result"
    }
   ],
   "source": [
    "divmod(5000, 58)"
   ]
  },
  {
   "cell_type": "code",
   "execution_count": 38,
   "id": "determined-freeze",
   "metadata": {},
   "outputs": [
    {
     "data": {
      "text/plain": [
       "(1, 28)"
      ]
     },
     "execution_count": 38,
     "metadata": {},
     "output_type": "execute_result"
    }
   ],
   "source": [
    "divmod(86, 58)"
   ]
  },
  {
   "cell_type": "code",
   "execution_count": 41,
   "id": "tight-flower",
   "metadata": {},
   "outputs": [
    {
     "data": {
      "text/plain": [
       "(0, 1)"
      ]
     },
     "execution_count": 41,
     "metadata": {},
     "output_type": "execute_result"
    }
   ],
   "source": [
    "divmod(1,58)"
   ]
  },
  {
   "cell_type": "code",
   "execution_count": 35,
   "id": "handy-skill",
   "metadata": {},
   "outputs": [
    {
     "name": "stdout",
     "output_type": "stream",
     "text": [
      "num = 86 and mod : 12\n",
      "b58 = D\n",
      "num = 1 and mod : 28\n",
      "b58 = V\n",
      "num = 0 and mod : 1\n",
      "b58 = 2\n",
      "1111111111111111111111111111112VD\n"
     ]
    }
   ],
   "source": [
    "x = encode_base58(w)\n",
    "print(x)"
   ]
  },
  {
   "cell_type": "code",
   "execution_count": 43,
   "id": "waiting-hospital",
   "metadata": {},
   "outputs": [
    {
     "name": "stdout",
     "output_type": "stream",
     "text": [
      "2\n",
      "V\n",
      "D\n"
     ]
    }
   ],
   "source": [
    "print(BASE58_ALPHABET[1])\n",
    "print(BASE58_ALPHABET[28])\n",
    "print(BASE58_ALPHABET[12])"
   ]
  },
  {
   "cell_type": "code",
   "execution_count": null,
   "id": "worldwide-norfolk",
   "metadata": {},
   "outputs": [],
   "source": []
  }
 ],
 "metadata": {
  "kernelspec": {
   "display_name": "Python 3",
   "language": "python",
   "name": "python3"
  },
  "language_info": {
   "codemirror_mode": {
    "name": "ipython",
    "version": 3
   },
   "file_extension": ".py",
   "mimetype": "text/x-python",
   "name": "python",
   "nbconvert_exporter": "python",
   "pygments_lexer": "ipython3",
   "version": "3.9.2"
  }
 },
 "nbformat": 4,
 "nbformat_minor": 5
}
