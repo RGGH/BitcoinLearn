{
 "cells": [
  {
   "cell_type": "markdown",
   "id": "criminal-oxygen",
   "metadata": {},
   "source": [
    "## Bitcoin RPC with Python "
   ]
  },
  {
   "cell_type": "code",
   "execution_count": 117,
   "id": "worst-creator",
   "metadata": {},
   "outputs": [
    {
     "data": {
      "text/plain": [
       "{'chain': 'main',\n",
       " 'blocks': 773283,\n",
       " 'headers': 773283,\n",
       " 'bestblockhash': '00000000000000000003336fcbf9dbd66b98e0b875db5886c00ed50dfaba033a',\n",
       " 'difficulty': Decimal('37590453655497.09'),\n",
       " 'time': 1674504080,\n",
       " 'mediantime': 1674501472,\n",
       " 'verificationprogress': Decimal('0.9999976729368286'),\n",
       " 'initialblockdownload': False,\n",
       " 'chainwork': '00000000000000000000000000000000000000003e6935b89992550042af20c8',\n",
       " 'size_on_disk': 511701113010,\n",
       " 'pruned': False,\n",
       " 'warnings': ''}"
      ]
     },
     "execution_count": 117,
     "metadata": {},
     "output_type": "execute_result"
    }
   ],
   "source": [
    "# https://developer.bitcoin.org/reference/rpc/index.html\n",
    "from bitcoin.rpc import RawProxy\n",
    "\n",
    "# Create a connection to local Bitcoin Core node\n",
    "p = RawProxy()\n",
    "\n",
    "# Run the getblockchaininfo command, store the resulting data in info\n",
    "info = p.getblockchaininfo()\n",
    "info"
   ]
  },
  {
   "cell_type": "code",
   "execution_count": 118,
   "id": "running-strain",
   "metadata": {},
   "outputs": [
    {
     "data": {
      "text/plain": [
       "['testwallet2X', 'testwallet3X']"
      ]
     },
     "execution_count": 118,
     "metadata": {},
     "output_type": "execute_result"
    }
   ],
   "source": [
    "\n",
    "p.listwallets()"
   ]
  },
  {
   "cell_type": "code",
   "execution_count": 119,
   "id": "consecutive-session",
   "metadata": {},
   "outputs": [
    {
     "data": {
      "text/plain": [
       "{'locked': {'used': 720,\n",
       "  'free': 261424,\n",
       "  'total': 262144,\n",
       "  'locked': 262144,\n",
       "  'chunks_used': 17,\n",
       "  'chunks_free': 2}}"
      ]
     },
     "execution_count": 119,
     "metadata": {},
     "output_type": "execute_result"
    }
   ],
   "source": [
    "p.getmemoryinfo()"
   ]
  },
  {
   "cell_type": "code",
   "execution_count": null,
   "id": "selective-respect",
   "metadata": {},
   "outputs": [],
   "source": []
  },
  {
   "cell_type": "code",
   "execution_count": 120,
   "id": "provincial-anthony",
   "metadata": {},
   "outputs": [
    {
     "data": {
      "text/plain": [
       "Decimal('37590453655497.09')"
      ]
     },
     "execution_count": 120,
     "metadata": {},
     "output_type": "execute_result"
    }
   ],
   "source": [
    "p.getdifficulty()"
   ]
  },
  {
   "cell_type": "code",
   "execution_count": 121,
   "id": "wrong-heading",
   "metadata": {},
   "outputs": [
    {
     "data": {
      "text/plain": [
       "12"
      ]
     },
     "execution_count": 121,
     "metadata": {},
     "output_type": "execute_result"
    }
   ],
   "source": [
    "p.getconnectioncount()"
   ]
  },
  {
   "cell_type": "markdown",
   "id": "internal-growing",
   "metadata": {},
   "source": [
    "### Get a block (so we can get a transaction out of it)"
   ]
  },
  {
   "cell_type": "code",
   "execution_count": 122,
   "id": "accepted-principle",
   "metadata": {},
   "outputs": [
    {
     "data": {
      "text/plain": [
       "'0000000000000001b6b9a13b095e96db41c4a928b97ef2d944a9b31b2cc7bdc4'"
      ]
     },
     "execution_count": 122,
     "metadata": {},
     "output_type": "execute_result"
    }
   ],
   "source": [
    "p.getblockhash(277316)"
   ]
  },
  {
   "cell_type": "code",
   "execution_count": 123,
   "id": "marked-proceeding",
   "metadata": {},
   "outputs": [
    {
     "data": {
      "text/plain": [
       "['d5ada064c6417ca25c4308bd158c34b77e1c0eca2a73cda16c737e7424afba2f',\n",
       " 'b268b45c59b39d759614757718b9918caf0ba9d97c56f3b91956ff877c503fbe',\n",
       " '04905ff987ddd4cfe603b03cfb7ca50ee81d89d1f8f5f265c38f763eea4a21fd',\n",
       " '32467aab5d04f51940075055c2f20bbd1195727c961431bf0aff8443f9710f81',\n",
       " '561c5216944e21fa29dd12aaa1a45e3397f9c0d888359cb05e1f79fe73da37bd',\n",
       " 'c298318e6bbb7a5bbcdfb289e0e7397ea1e7dc0ab04b8ea9cdb42b2c35d0ea7c',\n",
       " 'ed80a424c64ae0e8f084c7af1e7cd8313078f748a1da480a6a5f21caa71a19d7',\n",
       " '6d615fa6ff3e07f94d305946937f24d72e5497f25f631505b36ef33c267b9382',\n",
       " '53476f0332d739b9890cf279bbdff139b6c81f5b43335e0dbb41ca62beaeb10f',\n",
       " '010aba11a4c15cf2c129d0a22c2459f873b9585a7bca9d83df22e7d4e59d65ae',\n",
       " '9499c7494f7f1bf97c98543cd7f4b90ba11892b21cd09c6b07d8d6d079ca2963',\n",
       " '0f42d4f2e05829a7252de930acd23b8524b389b085993dcc59138da6840cb1a3',\n",
       " 'fea108cf56a5ff95b2c66f2037c705bb49a63c17e55481f2262e9fda3dea65d9',\n",
       " '60fb0f982b51efad54b98e0a4e0405472dcd71cd226306fc625639843167dbed',\n",
       " 'd99c68e3e7f55fbd0a7f0b8b00eaa4fc4a3ab1334b9f34a8b6059dbcdd833235',\n",
       " 'ce56dee6d8d3746f29e3fa8b110cbb64719d702bd5774618b3a5dad8137a7021',\n",
       " '16d6a2748d080ffbdb2c557c0c50f6915f26bd06e4ea9efd5d1430b16fe71e7b',\n",
       " '8fdc5a3aa6383f9987255e8e36b2b8daa445aa7bbc70584d051d67021142df36',\n",
       " '8ceaf03e5f158609d47465a23abe272310ea29d799b1ef5994ac1f93de273546',\n",
       " '9432e9e1475144baf8fb0e6d4ed4e739f9bb9279b45eaa049ffb4787259699a2',\n",
       " 'b428ddc923b75d7f6f23db000d6364747b08d91757bd48c8b2f1595e21184699',\n",
       " '1243291cada94b3be6799179dcad9a55b3108fea9e1187c8b09d7fc32fb3b328',\n",
       " '988565558934970f3f65e30c075b69528bba5aff0c4587f670306dc36ded0000',\n",
       " 'b357e3b46d53da13398bfa8470832a395f4280ff2c6b4a40a065b6ed86ffe22e',\n",
       " 'aca299b1c9695a0d38c450701ae83daefe1a6ae8d30f199b5db29e717fb988e8',\n",
       " '7256efbc027ce28a80a913e3cce2bd95d2c87c6e7690a17426fed68d704cbdfa',\n",
       " '8f0a5365398f8998436022471b40effe1d9ba245c505da9156cebbebc741afba',\n",
       " '0c8765432c74a9517aec4de9c2b47b0373d023019126fba2f2280cd064f81556',\n",
       " '62e0def2d70278ffee346f53c2c82a48efc1bbcd451b01d52e786acbeb2659ee',\n",
       " '3b1bcdf97fc52c0875742b2bf0928a39cca51e7b25f1ceb0c0bdceb80e244d23',\n",
       " '85ee58f0110218cbaa752eb505e31d1aaa1a2bae144b8a1d59e611225d906c51',\n",
       " 'aff6af6a060c5b4c21abdb5b3ffaf7bffd414c9a20ea2232f5bb00bf16084e29',\n",
       " 'f2b42d504172ad23aff8f59ce07abed634b6d557b1fdcbaac556dd72971867d4',\n",
       " '56030bc83deb07d8cc21396aaefe85f02a13506dd7bf39caaa5ee388937a8fcd',\n",
       " '62b631459686bf066593a6c774bdbb80983d0ad06d2684d709ffdc294a34455f',\n",
       " 'd96a3528364cdf072afc294e8ae69bc24cc975e9e286616aff3595867a18bfb2',\n",
       " '763779c38016f6e80413ceb163e465a7eeaae1bc5341bb928e40b9cadbc5c044',\n",
       " 'd45dbafae0bf6f7ba790a44594442b3d35f6b2f90f7c23b5b5f38725a8c74470',\n",
       " '13b13bc500fbd9f7c400c7d9d2efabe136690496bc86c5446055717fd4166373',\n",
       " '72b536adfdf22034bc543ec5c1578a3f932175e5de9c97fd406b817b1373de1f',\n",
       " '91f409df182f2b8bee29dc0cf97aafce3b87ecd8d0d96becf520e0690c3b0f04',\n",
       " '9b04e6d2ea6dbab450bf3348cb17eb9e3b7608a98bf97419fa30deae0977631b',\n",
       " 'cfadf639f420f07cb4991c6bd28993af620784ee34d063af7c12804761ab6fe4',\n",
       " 'a159b924e44d2938f7d3baa56c1c3b74a13803eb8696df01cddf99dfe704e0ea',\n",
       " 'a58c07a2072b665dbe6bf43771426bb509dcea7b2ea490d367ab457ea53f51ba',\n",
       " '01ef14855f60c833826dffcfb9031865d85c435d77c3a81c5c9d9aaac0084a4d',\n",
       " 'a39d77110a88fc15ea37d620f9f73e6751d6b16275a0a6491b55ff594d5e3ff0',\n",
       " 'bdad309afc6e7146624f5c22e5e1c5530175b890c452314912b5dd0750143e8e',\n",
       " '74f927f945b6ad13e5239b09acfcd6b211876cabb33203036128702d0f3aa5c6',\n",
       " '5703326b0c9745ac345decff64474c1b6e691a9f97e6db9e18a97bfac41aabe8',\n",
       " 'f174b3c601d592e19518ec3757c72cc2df7fb26e3889b52ffd5997cf80d599a1',\n",
       " '237db59800a74c0189e17ede880621c565c4a8cc39897232042dbcb56b509014',\n",
       " 'a004293e120216eec800fc2c89d2c1a4d2d033a694bed0c8411d125108e37206',\n",
       " 'cf971f5564818fb1a5703def9295e0ec84ac8a80fbbd9ebac133801807bd110a',\n",
       " '98217f07ddc53906236f1a0375a76e8c05673e0ef79543227ad877dacd1ad60d',\n",
       " '41e6cacc9305f5232a7012685203b4bce2f73aa0417bc477245f069230a9bf54',\n",
       " 'dcb35011ca4790152f16bfc20506ac27cb2d81f14a66b956ded243666d506e2d',\n",
       " 'f3280248a020d26ae6743efa96e7a833a61bcc2f5df958437ac1eb300cd8434c',\n",
       " 'c9503a12a51117f74ee85f02cbb9e3eb7c63227767f2b136d9a3950c20b39c43',\n",
       " 'c9bb0dc62f29a7258b840753d69a230d0ebe3602dd90edf4c06c4184ea462b4a',\n",
       " 'e18cfff4ce46629c49800f2718e414aabcf7f1f162646865abba2a13336dcf3d',\n",
       " 'b1fcb5f494a377efea6fbf956ba0e419870209ac42c143715477e99082e3c2c3',\n",
       " 'd61663cb3a09e70424b415903af32984d594c4c9d91520f3bf1497b28acb27d9',\n",
       " '34edaf3dca8f69738acdea63065141b79f022ba1b55f4a9ab4c5ea7ff9c4be44',\n",
       " '0627052b6f28912f2703066a912ea577f2ce4da4caa5a5fbd8a57286c345c2f2',\n",
       " '485175e9c00519943a1efd95439f280f6afa4824b7f41df298cf3bfc277aae9d',\n",
       " 'ad05bd50f802c9e98b5feb9bff324a0f33bf12b2b165671328a0584ac8a793bf',\n",
       " 'd3ec2017e2e1c51c10b2cef1e8d99308b971e5a14d56723ad9168497a4c93d37',\n",
       " '6a9aff6cd164a768688b050dc310dc5d4a753b3404c7defbabf86d6734762d42',\n",
       " '6a65a6c0c2e9b3da70ac57846ce10f9bb17afa24590e71466e96ec026fc79066',\n",
       " '59ea9e6f8302c5ac1a30ee7199283eda890ab5504f4f18ab97d025d6ff4d005b',\n",
       " '4f0d4477742fda6b6bbc1cf92cff5a184e3c8b97123304902be5d9382c82c462',\n",
       " '93cab5dec07c8063872f489558d032093b030f5b06b67651216672761f0756f9',\n",
       " '188a459a3532d5a330c436f6c86450b83a357edba54277bc77dde12141a43fc6',\n",
       " 'e9b5ed0d3cf2b91842baf83039d5fa59e9bd688b79b4c246f6b4b246ed48376e',\n",
       " 'ed9cfd96520339a1442fdcac6a0fd7b3e7ab966412bc5e688d46ac1557a8d29d',\n",
       " 'de605048ea1a47a34238c924082232129d2b5957e1384ecbcee6a538ae1cf427',\n",
       " '65dc3c43371aedd1f051f46d05ad0d44705e262a6b43fe20e8c213c5eb646a21',\n",
       " '557c4b102ca43c1934b4847378e6dcec72ee347470df77898cfe9ba007fe36bc',\n",
       " '21aa85c60323b3b5b4f980f6ab826788b84ea79d46a617553cb6b3de3d16b514',\n",
       " '517223bdb1779ed0064356be72dc3ddfed26354ccfb6d6ded9d0328523aae6eb',\n",
       " '1648a54fd2232437538ef5bcf8934d24b2e91b33c88858096307cd9f8858fa24',\n",
       " 'b549421aba43539da6ad89e4007d191cc27ce48c6529fa4d1212b366328d681c',\n",
       " '38f0d1f8e1b6543a8aaba256944a082bbfffff2cd8b2b77315fa8fb684d00de0',\n",
       " '5834ae77a6f7ceda931c7ce086960d606a494c6bb3798c78547d3c40e58b1b40',\n",
       " 'd85d8bedc9a775e0ffecb44eed27981b7967af5c467ff7fa30c95fe5efa0c1ea',\n",
       " '31cb12f5431f94291c1aca45623bf0641fec3e57dd54e9111d8b9ccf7e2260b3',\n",
       " 'b60460a256af0a7da74cfd49a35345c0ee463faacc59a79e0201459b75936098',\n",
       " '68ced5f802d62369f43099f8e927b4bde49b51a2f653bb4e890e135da214d266',\n",
       " '7a71468fe47006aa8cfa5a5e984b1bf7c971eb467d6607bd274362b07f5389d4',\n",
       " 'c1feb359c20e49699d6947a8a47b5cefb43a9d67121b71942aaf0bdf332f5e58',\n",
       " 'f55cf50916f554f9ff61febb748777ebcae34a14d739b88d426d5604cbcacb5d',\n",
       " '8dbcaf1ee3825303db409f8b9b38a77228e8ebd1b0ac73cf9f31fd977aca5a06',\n",
       " '6bcf58cf6be637b4acfddcaa678832a3fb8a5515cfd7cf135f09607b33d8d37d',\n",
       " 'e07d2001379768c1a9c771dcb1013140ac530f648c2d1b9672a018ee2739bd3c',\n",
       " 'abec82a31bfb46bb0796d872453fb2c1ed5f31d3407a99efb0ce0f71860f9228',\n",
       " 'f93d34a47328b34ed619e48b8ccea1ba801415a11073fb4adea1e0d7ba154164',\n",
       " '0a0dea09a3652fabdbfa44432897f38ba18b7cabf79c2899dfe226fb1ae6a295',\n",
       " '8da7c5e156fffa6f72341b29a8ac66845b78c50d2866208fea57b8dcf91df0c2',\n",
       " '5f8e07b9f963975f0fd37115d1f9f8e2354bae597e7f8ae896786df055c7d765',\n",
       " '8dbb332e313e32c2acf1adf522c524caa848500eedc160a4a87ce9778c7b8bd5',\n",
       " 'c48a08c86d6ce627dcb9d279a7944687a22bb74e78c5df1f27857109aa42194f',\n",
       " '152e650a38fa6fcd4e48a6b9c83f0f8112adb90cad5da45249c9929cd0305509',\n",
       " '9ced1527777b063f4b2637386bcf8da008b46854e41f7b10a9797fb6698564e8',\n",
       " '11304ce5f87f0169d957b873d6338226d52445336cb011843ca682a9aa5b5cd5',\n",
       " '888d24d07f2eb8cb18e44d0132b827584fa1cff011ef5c0dba63951475aa5d34',\n",
       " 'c02d48c8db1b27bd1e4cc378f4be143380516cc7f1d2eed652b078d185b5f07d',\n",
       " '24f80ccd87a512a9127eba345340f850417263fb5c616580b426b359fed8727a',\n",
       " '8bb809399aaa8ae97cc8372a30d25532ea59ee13bf141c081493abab53d17e26',\n",
       " 'd32f98b51eac4215f143ed1209f5849067dd1b1e340ef0710b75fb9b472bb2c7',\n",
       " '48319e11708b7240c584fc514ef6d097b4386d21293b6b93617165f5a323ae36',\n",
       " 'd5e641053d38bf73836a5289607a283c1a81ccda58994bb959e0919f59f6479d',\n",
       " 'd5db99f46c8bf21951bce5951a26450888a22a8d9ae7f21a5f2c065f7cdfe46c',\n",
       " 'dabf67e9c6becb97934e23b23d6c38af6bd088b281b6690f4a6af378d752c7f8',\n",
       " 'b8c0d43984878155606d0c3c0f6aedab3ad9cc1da13ce06962f4138f12a4f975',\n",
       " '6a76a12f0cabe5ba636c115b295198a52277ef34bf1be8f5896b74fc9fef71e0',\n",
       " '28e3f6ee1693a6e6f51cb9f043d4815730d13dbf9efa27cd558a51b7f2ca2f19',\n",
       " '746ebee6e733a32d2ffa13305ac12949d0f07ca60bc3c40ce1ea27d1d44141c2',\n",
       " 'dcaf8781f8d0abfc7a49b0aff5d2eb217543c22e779c7170b173c4dba1bf178f',\n",
       " 'f331e9f39d020359441dfeb9b70113f944c4c2a08a1b8ebeb369ae07d9f202b9',\n",
       " '4c8ce6043c4c213270a17f8aaa8be4b426c2d3e352101de6f6bb1a3d1b2b4cf7',\n",
       " '112b6443ce5425449ece3a3063e9c77412b361417cb216e164d551f23b104c27',\n",
       " '1743929ec98730855128904ce2aad3046a27064e0647c343452e88ec5b6fb41c',\n",
       " '30620bd9099358d29d7c0cacf33b732fee75cbd42b459c3e7147dade2d9486aa',\n",
       " '41638aa12f6f0c4e61ec15ab443d1de2ac83190645d4515bee9b8c04e612adce',\n",
       " '105cefeb79f80812d8968877ea5e17a5830d1ad664f1723b764ec2c8d8e42cd5',\n",
       " 'e47537b127068956a122d4addc067f0122e3bb7a14921e08a3a3f5cd25c2368e',\n",
       " '76941266e52a14d075b76600f6507395d4d744e229b522cd1de7d3d5ec2c4562',\n",
       " '20af477c8f799a62778691e22b187f1d1bba3bd44b50233fda718dd4b0540b1c',\n",
       " '8c82122b3011760df1938fa67ff32b5b1313d5db952e8edee5be163caebd5314',\n",
       " 'baa47e0505ae50cb7f278b4b63ae47e1825ae190135f899da1dff0715f2324b0',\n",
       " '00b8dbf54b38f60fdc22c355c32f0f95ddd6492f85f9a3f3c9cd23d82a93853d',\n",
       " 'bbb7791f29687e354271a4582d0e56e7a1fee0b1b93179f8c364d0208fe43a49',\n",
       " 'dbb595eb57d8f29c95775fd296b6edef6c47bde849d1e00669361c0275a0ecb7',\n",
       " 'bef8bc2347e47700d1a5e7ec85a865d5b5d6829c9ee8b3ee098b00133a928f7c',\n",
       " '0f6d641a1b53e5449e892ae2baec1c67a5695fb34820ba9f76aac3709b6206f6',\n",
       " '9c99337ae203394fb50653c558fc9d4f67a8a33a5df4729d28dc21a1e349a4b0',\n",
       " '961d24cef4414e520923490a01c6467dfb8cf9e9a023037907dc592ab44ea910',\n",
       " 'd864c895037a6356073abf975044a526b4433a9e825e4ce3cf87e392e82a4521',\n",
       " 'bbf58c73e03636c67d4e3f7e3f0564dc552a62cea4f2f768b2a2c05456e5d6fd',\n",
       " 'fe95fff733f64cabfb9c0a155b0208afb3d73bbd25db1cf7485fea5316b63143',\n",
       " '8f9aaf3a45bbc88878e1615119ed3c36eac8a2cc052309adec0812e4efd7058a',\n",
       " '128111d213d5b7479f6ea53b1f769998651b18bb1e9b867913ada0402bd49a31',\n",
       " 'b0f63a54e66c6bed2c7990f37ca8534791840441f32cde8fee024de4c3ef6b94',\n",
       " '61c60742ecce5e6d303678ebdb4f3d6ac85e143faa338c0afa6bef535b9aadd8',\n",
       " 'f3598e88c9001965e7a0d51cca03b05d2eae12b54f9b78d9b4f4847193679b3a',\n",
       " 'b2f6e20e4d42007ead47d0188099297c1749368cb74b3b7ae408cd0a05d9971c',\n",
       " '870a3b5deb58d07a3ecd17730522884d770972758e4f468eec840d2a92a0d885',\n",
       " '5076b32a4fb3cdbf47f78b42f4f6d88750bbdbd3d3dafb8e314c1605f6d70ca3',\n",
       " '41b36292655e160100c7952d3ce4528ce125d8964881c9553300b0b810fb314d',\n",
       " '3946e47abc54dc64bb13384405ce242cab1c3bc5a4458a6ffc7c603cd8e886e8',\n",
       " '2785778517bd564cab7f1b3a290a66d020b3beaea1b8f7a6520e33b523a42000',\n",
       " 'c7913a98421203b1a0a71c6a926546a3594c18527ee76c1b2da9b50a6dfe9ade',\n",
       " '87018aeae401213ef6e7ce8af6fe718833bbb4ef31903a21c40e6d9ee2173067',\n",
       " 'd208c2f9c303276c0aa05c454fc869474b09e9475e2ebe9c005fd4b6678cf6fa',\n",
       " 'd11ce2ce8dc67a3da6ba13688c65adb289dc82a0b6de106ceb476a3780c1297e',\n",
       " '7c66ca477f30a5a8227c0b60e383b9f809182aebabb744ce6b7620f400402a7a',\n",
       " '904ad2253954229199cd2e96bbc9d8865fe89db70aa797efbdbd9a6aece361aa',\n",
       " '4b20fe1ed70502261a48679c0ad4795b05f54a4c47c669ebe2b0e874ed058386',\n",
       " '488a2bbdf93b9d7ccbcfc359cd7e75ea098f905fe115dd4fe2e9617192c8ee5d',\n",
       " 'eb2b8e45a9f3f368e1d8dbf805a452729a21e6b24c9c7b88a2b9a86eafe8fac6',\n",
       " 'e7a84a805a231017600c3452dad86436dab76ed3ba1f6c2f0ae5060be2f20469',\n",
       " '79f40f65f6a0351e4ff123b41cc2058c09f067495c59b509ba8f57298704de59',\n",
       " 'b93d05c22961f90af23ce404fb660ea2cf27273f588dd6c14331cb62905cbc96',\n",
       " 'fff122fe7452414d89aa6ed0950a1b226cd251ef9d5fa1c5637bdd3498790314',\n",
       " '4545f4d14b67853d9adc5eb16a0209b324f0ff3a4ded925691a9976d960d9fac',\n",
       " '66a762c7221e142ea6b8ce8ca340c5ae2e806ee2952eaa4540ca9d18c260705e',\n",
       " 'cdb2d51378393d572c3bf0572208ad61c414f32fc9075a8f40ed1d2ca669cd36',\n",
       " 'd53ea8188d4b539ee92da59a2bd39066968cda53813ebdfb29c48253893dbb44',\n",
       " 'f9ed919f46fdf2b243776fdfb59da19c1dbfd72a8b50aac426bb28fc1dc018d2',\n",
       " '661366dfa5d1207c67c3433156515445c6a96dfb8686ce53d585125562ac65a5',\n",
       " '465706285c76f0519a39bbd9259a9d244302aed2a90dfbca378931d10b20c3c8',\n",
       " '87e48f166d9f20771de16627caf2109708bfe5c2c37d39c8319ed62d9aaa2b18',\n",
       " '47170c7acf6ae2c93304847b1d5c69bcc3eed30b976f5a221f75f4f2c1f89eb2',\n",
       " 'd2b01571c8ed7daf010c0b82ebb5029d9ba11336c70fea99aedd6b937697fb7a',\n",
       " '2955f16d5d4b6ee91e10bdd9e872ad01e504a9a53faffc1d4092d4a4def838ad',\n",
       " '5ed3aa45f82d540160ea2d9acdbc2c57738ed5c7f4752842ce3406f780f6772b',\n",
       " '9bc0cbe8666f784fa6b17b1147ce31022633d32ea41ac19b087f5ac1e493c880',\n",
       " '54768180b1511156f2c183abacf6c4bffe681a24f27f7bd593666bb7dab13ebf',\n",
       " '9ba28594072d071103ff7068580d469088d33d8426bc5d204c760388f69ec6c1',\n",
       " 'a5f967ec55056de8d366801fc04faefbcb8d9a18e643f604fe70da4fd5d669f7',\n",
       " '11ba9b3b6b4ccaab9445ef287accd95052c3bb9652a56339f6a895aedcfaf156',\n",
       " '4374d2ac01f53276a178f9e74ec641c190844bfadd97ccd4ce0a81015496ef95',\n",
       " '899f00d60302d5ec9c53f9e14b3ac2d7f9878941a59f1503228c1cf198934c44',\n",
       " 'a936a1939363376db7d96b018f2afdc950d53d512c7d85f00a18eeedd3000dc3',\n",
       " '271fedcda697b1f1dbd50c7084de5dafb02c3adc83effb1204fa8c7e4ae6c782',\n",
       " '292ff251c3caf1e1d4cd9e1825f075a94d523ee034940ad43791e1357d21258d',\n",
       " '9f2842952bd0b9f33ec12e38f4d3dd22206a374c5dd8c5baec812394aa15b279',\n",
       " '4032fc095fab0faad43be6323984c841414f4a2c0e9eb644697549a95ffd0d79',\n",
       " 'd59a3e0f48dc901811f7e8a0cb2245e14763079091e0ec690c64f33e8697864e',\n",
       " '624d368792018851b7e3a3bc3f1fbd0c0e9a962ea20ab079d700488f77308756',\n",
       " '608b36ea770c2d3a77cca242a31296a124e9b0382d4c3a6a02f41779f66754c4',\n",
       " 'c3ae6ef716f2c3e370c4cdd35c48b68fda1a0262b3720fa0484debf87a77cc2c',\n",
       " '5175683df8c33aaea667bae3bd11dac608031c968d1797a55aba441b774d68d8',\n",
       " '457366bc018b175ee9fa7ee5e542ec6c6815f32136d7444619b0531cb725bb2e',\n",
       " 'de76a17b169935f2e530abbae7b984b263e64abba856b90ea0e90d70c67833a7',\n",
       " 'f729d2aee3aff4558459aaac1adf5132a1eac8060bcfecdb829068051211e13c',\n",
       " '798b1ed801682d04739dc81a9777f2d09d03509f052a65890fa738e462b30056',\n",
       " 'f15682c537aa7e412c88545f3c08faa870e76bf06e6d28def4a1a121792514f9',\n",
       " '293d0bf0b14f662d54b2b8359076c9220295e4594059464e5a1ff7f10ba884c6',\n",
       " '01b906d34b17ee5a979217d463a436a7fcc42a4d8f22275b3cba7b943d8081d8',\n",
       " 'bbc5b57a880a7e21cd2d9811f47a7afe2e174d7d61370212670ac8b2ce945142',\n",
       " '7aba5d25f5af525907fa77b278884a0e7d1c6b84b9d013db391e4182f387ffbd',\n",
       " '89b42accf1fde69c059cc08d35900a946c658c239efbbfb7a7fe311a6d63cfff',\n",
       " '65efc7680b6f9f6e7765fbbb94d80e550c70e5d66865d0fdc1c2320e06654e11',\n",
       " '60c652bfa9574f806e7a254c8383b724c9658148a73dc803646d6bceb24d5a6a',\n",
       " '35191e78012aec58cd153e8ad19958d5d5134f9340ee161b451b8fb65f8a41f3',\n",
       " '23b958abc736ba0a103499bc732203cf5e37ed6573d7d7e15d529609e120d4c3',\n",
       " '2145026324013e88278f3d2a7c0f811269d923ed0d3063765754fc003d3a90c2',\n",
       " 'bd12a43115e4bc6adcf0ba1daac9cb21e532ecc8441165b10b3f301a3a47ac40',\n",
       " '64e6486fb464d74eeb72a458743a9ea1fa55fcdf179244ecbc15b4a53af7f375',\n",
       " 'e47b612a0f5cba2dce1593d4374a2a4c5fdc117c72862069ca2ccf7ff23d2f22',\n",
       " 'd48d006ac9eb41960d753e16b8928ef2a2534f267a3d7544462bebe47ea405c5',\n",
       " '8072aa0edc23e06f35782da076e0e8fa434bd50fcb423eb94ac39e92a3a1b221',\n",
       " '71cf8e5d4acec26d4ef942eb566dcf37c54c438f6aec87db70aed737fc3c9bd2',\n",
       " '649b6c3fcdd10d0fa45e33fe31f7c142692812ba2c8334b460f3dfd68deb0e8e',\n",
       " '1d6377f692429668a9ae16b703c81b0eec17a2f44a4496f832e01c82a0b6ff23',\n",
       " '728b0c7c737eaae3a88345054ffa783c393f777b80d03f025e112d5fff9ee08c',\n",
       " '4c4565f1210c0c2c23789a10b6d2b6c1fefb793d3d490db2347f263f8345457f',\n",
       " '9f2e7b8c89ceed9e650cfd1e7122e5ba3db3bd1e97440dc9270a39c66627a3c8',\n",
       " '4cd7bda03da7749680fc68ab13667a0fba910393b6ac01761b6ab6cf2927252d',\n",
       " '93297165082d56818171f26025fd4ee67f000aa06a6c2a46e5cac4c29a4fd1f7',\n",
       " '1fb49dbd901091cec6e9d30cee602e26f33aacf0d0ccfc12c27871308f7fbca1',\n",
       " '42763d8ac1bb99a8b16279a856874b6fe3afc4265a5f737f5ece79ebd5fde73e',\n",
       " 'f823b98eaf4c42ded0d3763e317c447b5afdbad8f2926dda18a02c2c86c86c4b',\n",
       " 'c5323cb2b942ee4cca14b55f2be97e1ccc2779d2997c218d2a3fa86d85597604',\n",
       " '6ac20145e13b250c157598992fc458b7169d580513fcee267091141ff76c0350',\n",
       " '0503c3602e679e235ac7e519761c8913ff4a306a41111c2122f269e8257107d1',\n",
       " '5762291cb68d512573ba5526eeb90448e6e7cc39a332563a4ed05268a2dfbbfa',\n",
       " '04d0f095eff2d83eb556b72aea8941d7be93067e9cad658c190ca164dd14253b',\n",
       " '1a99146897de1dfa7a237b7c2672948ac0c637de79d041f40d02934609281bc3',\n",
       " '2ab49f3206dfaf15c0dcc4ad3d9c24e04dba6474f0985908dee8b54b46639a23',\n",
       " '8380fefa8496ea695685f6ebe189c2513b46509523f3e9fbdf4b8b35f8556aff',\n",
       " 'd1a1e1ba9ae1602a9fd16dd0374879149e72727ebd89bfb6f23c2d64b97cf8ef',\n",
       " 'a1bc98944404e24698ac1c370db133d6df3c0717896c9d327d816dc9172b19d0',\n",
       " '1162560bf73dd80e0efa199dc062338a7a98cc9ff6c3d2a36d9ab2fa62ab559d',\n",
       " 'a5f2e3c25c1c1ae5251ef62ed71c23b7cfe87e8ce9fc7dd7e1993a2f630dfac3',\n",
       " '1659611f26a8d10a6a50263c270e1c614ad6d921669be52bd0877f6bcc04d6c5',\n",
       " 'b5a5c44166633ad6315a27ecfe057c52d0a40256000f74cf85c215b4acd18cea',\n",
       " 'c1e9ffab744599206b1652c9f7c3d5184a02ea8014a9b0191bd9b34070018366',\n",
       " '3a1c0960c5f85da510b400b73072848817d697b30d60ffc72c0789e29771fcf8',\n",
       " 'eba4c2887e03f5bdca66f06b47a3022f1c3dbf4284e1ad6819255fc8263136c7',\n",
       " '19c1d4f04166589ab003dbe3b753fe93100775dce46f62ae3234b3728d7529b4',\n",
       " 'ab1ec7df3f1f031d4ddee74e30603361145a15dc5477df9f1b01be0dd6aef9d4',\n",
       " '089c04877ceeaa833c7f153a44930c3fa7207a41598f355e6dffe163c18d4f0d',\n",
       " 'a13013e18accc47430a70c57af18b0a044dd9d6670ee64f1a15f6ae906b2d581',\n",
       " 'd575480eda3fad4c4a9471b92ae7d7bf1711df7f2e85e509a9638aead162d82b',\n",
       " 'f409e1ea941d5fa0a8afe1291ee09ad6b9e05e8b5d70fa96beee682af4fd2f55',\n",
       " 'a4d64a5a3284ff19b4917f60ab783c4429655ed03f69e8b7cca7ce6319ec1939',\n",
       " '294c4c43c22ae450af3c6656313359c7cf82da572db061a1cd9b7994297369ff',\n",
       " '9254c75e028d58020224c66a80b71901d356136c48d02f8237c89504ed5ae648',\n",
       " '92a9530ff413708028166c4ac9278813206a7190a623f1d8d7b29ec76b591e2f',\n",
       " '9222622db06a2cb88a35dee00b8bd17c32acb008247f7fd8bb9fa0054aee918b',\n",
       " '43b288949eb654afd8d7bc073aef6aa1b2c56e0b86891a2e1040f63cfdb80ac3',\n",
       " 'efdf02912b4b921b141924c9a4596cb03c4378e2820d423e613b0952c892c095',\n",
       " 'e2708341c255900524a59bc39beb3c46fe5d84ad2cf86fa4b3e405d6efc4e44a',\n",
       " 'b65a249160eb44d2332edafa2298b843de2ef99487ddbe5fcf351948b2771b4b',\n",
       " '67b12291f703a69e47a5e27e7a8a8ab0dfdbd0dd8ab3da6df40a37108713fcc7',\n",
       " 'b715179c4b4b67f2f7b7a74deb74360183fda82da34ef12b93ebb00b60c053b1',\n",
       " '29fa25722f2e984c78b07ac22e08b7713fa3b87d54cfab29312b4d1c97076a27',\n",
       " '820cc6a75bbd01d43b7038284871143d31ddb1e58f644976f0e91815cd123bcc',\n",
       " 'ed6a98daa692e6fecc6689a9756ffe788bb949ba111d1815c9c290116dac9c8a',\n",
       " '34f56343105e44445bccc6758505d971efcc90c397022d8cd271106ace56cfdf',\n",
       " 'd18b2760e7cc824cf90101f6b31d20d8d5f2c1f1a47568ad9ba76a14e751b41a',\n",
       " 'c202294c87aa8c2bee50b606c84f2bfa13ac2f4ef8ec2e9ca847825b3e925a74',\n",
       " 'ab58019b43db366a3611118c448f38fdfe99de04057e73709733b83a06a98e6c',\n",
       " '92fcb20f929f502bc31f8960d648169c3305bd2932d89f9e8efaf84fe610263e',\n",
       " '88890da3b80fc418aa931412ee75396eb00c8070131df13514bdc2b96c6b9d27',\n",
       " '390b59fdd72052ef90dd63240776cfae5a4eabc7e0d7a41438bb41ce4be28c9f',\n",
       " 'a1a1cb08385a4831963b6f3ef82b5e7e830d06ec46c6e4a614013bc2d468bc8e',\n",
       " 'cd37ed25a3bb7a43f9c0db2c0845f0f2ecf8f7d470b305c62f3308af023390e1',\n",
       " '13d1ca50376f26e2ac71bfa90451aa4d85a0ad0fa0ac0dcb1698cd09717124c2',\n",
       " '75a64f79c4a751d78953e9f8a038a8fec3f740f2e71e923012f3703795bc931c',\n",
       " '6177f924507881f0a50656b8de93430e8cc1910d799beb40edbe5cbba5fdf1f6',\n",
       " 'e137fd759b273af8efa89ed2b97ee059a6b7f728bde2fd26a869b8a8b66ff691',\n",
       " 'a280da83c970ca60f4e3aaed70fbc25e767978161a37d86df447e330ea09799f',\n",
       " '8e03c5a3afbe94b9f49ce5455c2ee9057a9b077d1c8637511a045ed8c25aa475',\n",
       " '6d66b4128dbeeaa2dfe45699437aecb8db57d883de4cc499d3236c27dfdf8dae',\n",
       " '5f802a861690b07dec5384542ef10e3685253033ca34846e4c686c1fae3e248a',\n",
       " '2f03c6e28eaf52141d26a9fbb06d1e075ec87c52df47c4849a566d5711f505e1',\n",
       " 'de19b657172186b57728d30128082a8f2465528ebb3cd709fe0987ce1af4cec6',\n",
       " 'd57306bbd9d1df23dd790900056b2efe203e94d4c28eeb846f9a875b87c5f428',\n",
       " '6bf8e1a98d0e27b3c28c48820674ee7e32d609b308597e3e20626b54f50254af',\n",
       " '19bfb0ae8db6db908e679a8379e132fcb855971ba7c09d3ff53eddadee9fa279',\n",
       " 'eb572ebdd40d7c97569c05a7ad480c651774531d0390c08443e70178344f9226',\n",
       " '49fde69db6a9b9a073e43a32517d2b4f82beaf53b3a8b87843192a9c61698366',\n",
       " 'dbff28baa58ac2b69b147ad81d8cbda187d9d555db90dae2ac760f1f5d3f6352',\n",
       " '7a0abbf4452d850e7a685dc2bc4b54a8e5611f3b877606ad5b84cff9b37779aa',\n",
       " '9470f82dd94f6710451db7334c8569150d581f0e054f6b2f78d6d13cbb3e97f2',\n",
       " '52724e616e34ff4d87cac01d7efa80d925a4b5d6f10e7bae83d99a3377f81639',\n",
       " '8cef6b91f826dceb88b91cac5f7834db2bec052fb41d3b407b274d1089d6c69d',\n",
       " 'd7153919a660c65f7c497a9854714b909caafb44c4cf135857c7d43553a6f9ec',\n",
       " '2fb3eb0f8ae08e6ec726df402a6f7b32a2e038662c186b9e419f5e2007aab77f',\n",
       " '07c43328e958600a3878dbd8f79145b0f1d7c0dab3bc0b76ae0dd58d0e874357',\n",
       " '5ce69d261ca320a6a212a58e06e7b4517aea3ab48eff0f3ecc0b17f0bc555e8a',\n",
       " '6d36a65f95945a439d2b19c20a28aa632636d3e074ff258c8866241245bdcf79',\n",
       " '32cf9b6be67c05c26e75a8e07fccf86b31cc08a72516de05e054b651f8c667e7',\n",
       " 'efacecce9d8ab7876336cbf28801b06f401c4dad600a533564f44b8dbc8a1cb9',\n",
       " 'd9d413fc2475cdeb555f1c2565657e4660a3f7c810fc4d6b4412b39635079d14',\n",
       " '74b2d6996718d7073b6873516975bd0046c12c1cd7d0a58443bf0c1ab4a68d01',\n",
       " 'e8b5f41f96bc4e076efe7a0c268b45fc68149d4bc1004aa7f7e5bf3c5b1044bd',\n",
       " '9d7db91e096c6daba8602ef84068b28ec16aff7fcff778e60af2fc47c1078ed6',\n",
       " 'b3f968a3b0ac0f844e3a72f6922f33450bc4d142594427f540109aff4bdd42fe',\n",
       " '3c1f177a5c2c301ba1a764402f1eb63adf692f6915589607a86aa9d4cd7e0187',\n",
       " '2d71170e843f0040a27611affdc5f25c3a276ad4b6f1ca16b01220cbde2954f5',\n",
       " 'b1bc6d0bd29bb978d1e708267f4f56b959522e6eae75f580d5bbfec5ce55aaa1',\n",
       " '5399c64bb4d9aebc1040644e3ab080474564852ad7aef9338506f2da0257ceca',\n",
       " '1865b7ba684ce85d15df8b52dd0ff0a1eb9e4b509b8b0d7dc80a019f1b30e147',\n",
       " '31742d43861207a109bc3564a80a43bb0ab88cdb1b1be182d99403b20c35f6bb',\n",
       " '03df2a5bd911252c51624c973989c84291e9e86529f42017ece9a665c67187ad',\n",
       " '77bb5931ece9579479cfeee9b07caafb7a6367f94aa227022d6fd940c8006ca7',\n",
       " 'b4f7ae94eeef66f6dcf4583d809cc90002f1df6eec0fee29f0db8f2d354ab291',\n",
       " '821fd4a5cc5e72119b1ea45d72688704f52c9604fde34872d9751b1e3a8ecf08',\n",
       " '9c9f53e79d6b398cd13b9c63e7000ae918a0c0ef4ebcc4666cebb03fcdbc0e01',\n",
       " '2bd270d5b376567e54cc303fbde30139bdc13810ead4fc03dfd9023f10aeb042',\n",
       " '9bf2db85acb677aba9b38b404f13ad86ddeb7951bc3d3ea50b5dd1cb4b676fdd',\n",
       " '9037182073b9fa0d7a469dc340dff80ec6845276de7081c9b4e391360d735f0d',\n",
       " '20002bd564aef9f02e75c99ad01bb93460b3b6765b38603436452305d6e2b453',\n",
       " '9cce4cbec0e4d34f969a052edbd92405e1dd39833fffd774d72f006d16804aef',\n",
       " 'a9c04ada14845ef88823e023740d996ec9b25aa5905d249c2806d07df0f2b925',\n",
       " 'f9579db006ddcc1d613b4ebd9d9a9258267e1176a838954de8ffdb74900337f6',\n",
       " 'f6f1dcb1bab61bd1ba0577c76a64a0b564dc5f203171399fcf987b14630346ed',\n",
       " 'e01a82b9125a1e23c0b75626e4579ff5d178f19a81a59f4412dfa9e0a6eee313',\n",
       " '92865edce305e65ffcb53f96df4961995db3170a00d5140e91a65b5360d4b5e6',\n",
       " '117fba372d76da1237e71c8f75835cb82b112e7e270a8fabeda2b8c30d1e6e0f',\n",
       " '4bea8ea64ac88ec62ba035e978edd057253d93f7a9dc06070dbf8b558e2aed27',\n",
       " '6daab897f4775a2cbb09cb38c43524629c734e3580bd45be2473618709a679ae',\n",
       " 'ba84e23db785402ee1c951d2e87c988b40d69107d92ac03fb3d2261a7dda01bf',\n",
       " '10b54869d4ade78930a2b884b6409aa4d7665e68c7ea6fb253aa3945839f19ea',\n",
       " '3dc3976415c5a2225d688d4ae3762abd879f61fb3fecd0e68cec14e80432034e',\n",
       " '6bb1946ec6ed0d94e67e2dd884f467e1b300b641d112d160ebfff92baaeac7e2',\n",
       " '7d40a9c88cb81e47653f364fe0f565f7af42fe2ef46ae5d3a20f7c4fe57538a2',\n",
       " '7c304be315ca37551c0a6f1b73fbbe8837514b0678012b5e9073d9542e346fb3',\n",
       " '29861b802914cf937f23e97f17c4f78e59c68558b7efefa4d2560370f82f852f',\n",
       " '6c621ef0a4960c450f9b92fe501d6077e469d2bef581c67feb88674956db8005',\n",
       " '594fa1eeefb327b01486d9cfa0d83f748c382e1a3ded133a21310e665f44a0b2',\n",
       " '855be99a47892f75f7cb671b8f2a71338b5ca7dc3ee8bddee8d7e810c693e9fe',\n",
       " 'a7bc32767c9f01b40ccbac0082d3fea2be61d9ae679b936edb66c69cee08420e',\n",
       " 'ca0e73a0e7bc68672692d051da8ae96753da7f816ba0e5204480d9c8ca5a3516',\n",
       " '238675899b8f7af696ebaf562c1e1a66767ada95f857b807057dbf9d38130a6e',\n",
       " '49775b8b390da0c238a39d74c4ca708a4f17863f06fa01bd82b20a4374a396fb',\n",
       " 'ea67c461a8142baaba41c33c9c362a9c022295c212201099290a42d748f81f93',\n",
       " 'a88c7b63588c15be7ae90971457481dc9205af797adea4067e29823a6b623428',\n",
       " '149bb29dc0b0e3e0c7d34618ed5a56d44aa240ec3468037005076b76725f9f8d',\n",
       " 'da4a6aa5ca0da0f2e5a1f317aba0dd677859816657c19fc4769b004fbe30b341',\n",
       " 'c65e6d586fe9d737b4a260b63b3aed6112703482cc0b0122ae6ae49153697182',\n",
       " 'a16921196b99e2eed401e34cf8126cd202bceec9dd39a5a1fd34530ea510a5f2',\n",
       " '584138cea2ffeff60df59667a2f274709235ab6bdf1b701c482f2ffa65f63582',\n",
       " '635d2aa027037bebf821481973daa93bddea7ad1a1be3815da080b3d17c9500b',\n",
       " '4050c184477842e769c343e215092f48ac35101015eacbeff1fb9f08637e7a32',\n",
       " 'ac2d4558c63f3a869f78929ea6722fc9f99c95f6426bab9975533283923881ab',\n",
       " '4439f989c316472985baa9fff58de03555b646ba127aeecf8f3fa04bd99fc28f',\n",
       " 'df770f5b8487d0a6aa6712a1157bedef6ab1c775a1213f7a33e5778f825d4d2a',\n",
       " '536f671378478fd11e59d1b9b2d1f2217c22e9150e6cef6bdf2d46abe2da139d',\n",
       " 'f4bc0f625ebf6fe54d5e15790865fc8320f7f3876bfa670b6c53bb1b2a569160',\n",
       " '55acdc56a48b7a539a70fe82ac03e081ca6f45c32862bc03ef8255433de1e12a',\n",
       " 'dfb771623472f1460f3feb162d541b139c5f4e1259021ec6ec73c74fabe426da',\n",
       " '5fd8c1ebfaf7580f291dd68030435126671b197420298a91382823bc10d80c1d',\n",
       " 'f2f15ef7b39cf4ec6e422c5c9ff00631b57b12c75b9e12948dcbdb1346fa960c',\n",
       " 'c2d07241c0638484d8a88913730db1ce813ae435716268c7429f05f23fbc5270',\n",
       " '6883fa986761754b5f213e3ed9bab7f64b63d6fa347dc51d8950e8046c24caf8',\n",
       " '29ae1012ee3ed9f12a7f3b0617bbba4cf8506fc9bdbbd7e96b0807bb7f440155',\n",
       " '1421fe7e8d142b230be1990fd1ec1055412cf1dff333a4bb26e981799504663d',\n",
       " 'b929a011787a7e8f911a7cc44733da18624f4b280304017b3e0cbc6b9d3b05da',\n",
       " '9519040c43b260fadb6cb112c6f70b35a98254bbe239c3420394b977a4fdc0c5',\n",
       " '2d59ea4e6615fd80de2de2f3ff6394b5e3cf5023f52a84a41bab3ec838280d94',\n",
       " 'ff4b3c693bba5adc88a9f5d6f3d695f63fbfeece6cee062c36f3ce46913afcb7',\n",
       " 'e7d1de206ea428fc87ec38e22c39a5a008d57463397c9f314476f79d46110aa3',\n",
       " 'b266fcfaad21a876d86008b24c042e874ed58fd36bb6d554992865ca6b53340a',\n",
       " '7e8cf535eac96eb16f467479e8c6247c17aae361ba77036d3f3eb950742573b3',\n",
       " 'b38efb3e46e3746f20629e8cf33b8462b91fb1a5329f6333e5cb9fdae1147812',\n",
       " 'a8827dc37296648103db46292d3247197faae6f4c4bbc6a43bf991aa3ecccbd6',\n",
       " 'b0183e9edc7965359b2ffab482739803eb60e2a338e07256ba8d60ee5d7aa8e6',\n",
       " 'da6a5c7f303acf61747ae65e1e13681f31ef7c1c9f189160d162a29e761d8471',\n",
       " '1cb5f9f66a943a902babe8b2db89d6e219cd0f39ede0bfa2d4950969b750cf89',\n",
       " '3e083b7fa7263801b9629dc486ff8b02e42974afb1a4f6f87111dec8cd0fd3b6',\n",
       " '2327c02b167abfe68f6ec9f2e0d294c0145078a2d6954b93072487ee912fd59c',\n",
       " '39a47785ec6d033eabffde53a26b10f7eba5da7e7b97c710f98d20e3957ac468',\n",
       " '37a9d6cb22e0277fa731449d7ec02f342a97826e279cf5fb4285fd1fdd3c7bc0',\n",
       " '6c23f94915d9fbdf3e448dc20c6686a14fd5a97a35904fea47e22a08a3ef316d',\n",
       " '5a07f77098ee8758a26fe36c323a79049c1b1ec64fd7136ca1d8cb234083b176',\n",
       " '6bfcacb493640b02c048bb03f1591c161d4cfff9c0655563402e87e7c8e728c2',\n",
       " '1bd1802ca3a00afecc0d018d87e4b2d40cc31c24fe35caf2988b0e6d8be837a9',\n",
       " '4a8adc4b35810fd1a5695b9fb218df1a3ab01cc1624267e43f6901a01827ca4d',\n",
       " '38e085c90f3326b55ed4780cc293f668d03ef985acdc9b9770238abf60be8588',\n",
       " '192500b61c2d68ad55e14a61dc698f8f7351872584294f834627696b0c912dbc',\n",
       " '0184d35d0e8ebac684e940ab820682978dafad5f443dac6f0c7dcab77d120901',\n",
       " '0d17a0926ef3b8f104fc2422db595b209328cf5bc4daf4abfb93e24c97b112a3',\n",
       " '04d59311f8a92311e6e02e6ab3b9a566ff13a5f4770e2859b35a691bda3fd4b4',\n",
       " 'c1d548a121191df3726a3fb23c4c69dfa5f5217bb0e2759562a13f998deb0406',\n",
       " '331dd436aebeb22c9b629d6a769fd3f679e18ca4c6c34b15d6b3ab9ce936cd05',\n",
       " '8d872b1e59ed3cb622972c5956f30cdb5a5632a025a1c416b6843d1d48dadc40',\n",
       " '1e1cc04ca3520febf885f98688398fdb67284ed251cb68c11a2c103b6f74c13f',\n",
       " 'b4e1423bab4245e6115f7456d71c9f0ec3da3ba1054a5b26a133d9af62f3b98e',\n",
       " '4e59174017c94f709f0272dd55c39ab6ad3284758e3bdbf9d8063e7de1fea5d8',\n",
       " '12017f685bf4d43c69251c328bb231286eb8bf2c7f98f2553418f99b8c35e273',\n",
       " 'a5910e96d7682b920a1b09b109c1408ac9cbe336e05e12e2d9ef66ff411af234',\n",
       " 'f894a05f752c46ae8f04979e387941c62100926bac1ae7bebba6a666987040fb',\n",
       " '0c0849a6c5e9d1f656a2a058b346e9377d46a047678e62b2cf2d47d9a4b309d2',\n",
       " 'ff9248b26513baccf14d1e50c07ab371bd6cb4bac7cad63d20a2e24897f3295f',\n",
       " 'c7b520c72372318812931f3e783ab994dde32a72fa5957eff8df7d742132c3d1',\n",
       " '730a87108275a86cb00ef626f5c84b8c5d53cea9948d5b7e751b573e4736da8d',\n",
       " 'da5c92ba1667091b7a591503304e5e08cf3f081a32626bbbd9b6e4fb5b37a326',\n",
       " 'a0313078a14d85e93b36a2f76d3eb5b7380da9b43e4b87c63a7ee6119ce5161b',\n",
       " 'c330d0f0598dc117a6488f6a2fa610c210f7db36a6108ce5a45732eb32063c41',\n",
       " 'e9577a53b6fd7f3c869cc1b7b3007807c865b2fe42fabc5b9540ec81d6c36572',\n",
       " 'd714774524f62e0a5e34d35a7e0f75d6eca0bd512a59240d9a613e25cdb387f9',\n",
       " 'fcfe867fdd7dfee0e2e91c5209569bcee650fd08a53c07a0312c6cf27d609813',\n",
       " '5ba12838a1ba672aad6ae73d6cf36979bd35c22375974be1b9892b8fc08daffc',\n",
       " '3fd3431462b46b4adc8e3da663582993ecbfebf62ef7de4d81115b235a5020de',\n",
       " '78b300b2a1d2d9449b58db7bc71c3884d6e0579617e0da4991b9734cef7ab23a',\n",
       " '6c87130ec283ab4c2c493b190c20de4b28ff3caf72d16ffa1ce3e96f2069aca9',\n",
       " '6f423dbc3636ef193fd8898dfdf7621dcade1bbe509e963ffbff91f696d81a62',\n",
       " '802ba8b2adabc5796a9471f25b02ae6aeee2439c679a5c33c4bbcee97e081196',\n",
       " 'eaaf6a048588d9ad4d1c092539bd571dd8af30635c152a3b0e8b611e67d1a1af',\n",
       " 'e67abc6bd5e2cac169821afc51b207127f42b92a841e976f9b752157879ba8bd',\n",
       " 'd38985a6a1bfd35037cb7776b2dc86797abbb7a06630f5d03df2785d50d5a2ac',\n",
       " '45ea0a3f6016d2bb90ab92c34a7aac9767671a8a84b9bcce6c019e60197c134b',\n",
       " 'c098445d748ced5f178ef2ff96f2758cbec9eb32cb0fc65db313bcac1d3bc98f']"
      ]
     },
     "execution_count": 123,
     "metadata": {},
     "output_type": "execute_result"
    }
   ],
   "source": [
    "# Retrieve each of the outputs from the transaction\n",
    "# and store in my_block_dict\n",
    "\n",
    "my_block_dict = p.getblock(\"0000000000000001b6b9a13b095e96db41c4a928b97ef2d944a9b31b2cc7bdc4\")\n",
    "\n",
    "# append transactions to a list for processing\n",
    "ls_transactions = []\n",
    "for transaction in my_block_dict['tx']:\n",
    "    ls_transactions.append(transaction)\n",
    "    \n",
    "ls_transactions"
   ]
  },
  {
   "cell_type": "code",
   "execution_count": 124,
   "id": "hundred-portfolio",
   "metadata": {},
   "outputs": [],
   "source": [
    "# for tx_id in ls_transactions:\n",
    "#     raw_tx = p.getrawtransaction(tx_id)"
   ]
  },
  {
   "cell_type": "code",
   "execution_count": 125,
   "id": "outside-lotus",
   "metadata": {},
   "outputs": [],
   "source": [
    "# rag@raspberrypi:~ $ sudo nohup bitcoind -txindex"
   ]
  },
  {
   "cell_type": "markdown",
   "id": "printable-swaziland",
   "metadata": {},
   "source": [
    "## Get Raw Transaction"
   ]
  },
  {
   "cell_type": "code",
   "execution_count": 126,
   "id": "educational-wheel",
   "metadata": {},
   "outputs": [
    {
     "data": {
      "text/plain": [
       "'0100000001186f9f998a5aa6f048e51dd8419a14d8a0f1a8a2836dd734d2804fe65fa35779000000008b483045022100884d142d86652a3f47ba4746ec719bbfbd040a570b1deccbb6498c75c4ae24cb02204b9f039ff08df09cbe9f6addac960298cad530a863ea8f53982c09db8f6e381301410484ecc0d46f1918b30928fa0e4ed99f16a0fb4fde0735e7ade8416ab9fe423cc5412336376789d172787ec3457eee41c04f4938de5cc17b4a10fa336a8d752adfffffffff0260e31600000000001976a914ab68025513c3dbd2f7b92a94e0581f5d50f654e788acd0ef8000000000001976a9147f9b1a7fb68d60c536c2fd8aeaa53a8f3cc025a888ac00000000'"
      ]
     },
     "execution_count": 126,
     "metadata": {},
     "output_type": "execute_result"
    }
   ],
   "source": [
    "txid = \"0627052b6f28912f2703066a912ea577f2ce4da4caa5a5fbd8a57286c345c2f2\"\n",
    "\n",
    "# First, retrieve the raw transaction in hex\n",
    "raw_tx = p.getrawtransaction(txid)\n",
    "raw_tx"
   ]
  },
  {
   "cell_type": "code",
   "execution_count": 127,
   "id": "instrumental-violence",
   "metadata": {},
   "outputs": [
    {
     "data": {
      "text/plain": [
       "[{'txid': '7957a35fe64f80d234d76d83a2a8f1a0d8149a41d81de548f0a65a8a999f6f18',\n",
       "  'vout': 0,\n",
       "  'scriptSig': {'asm': '3045022100884d142d86652a3f47ba4746ec719bbfbd040a570b1deccbb6498c75c4ae24cb02204b9f039ff08df09cbe9f6addac960298cad530a863ea8f53982c09db8f6e3813[ALL] 0484ecc0d46f1918b30928fa0e4ed99f16a0fb4fde0735e7ade8416ab9fe423cc5412336376789d172787ec3457eee41c04f4938de5cc17b4a10fa336a8d752adf',\n",
       "   'hex': '483045022100884d142d86652a3f47ba4746ec719bbfbd040a570b1deccbb6498c75c4ae24cb02204b9f039ff08df09cbe9f6addac960298cad530a863ea8f53982c09db8f6e381301410484ecc0d46f1918b30928fa0e4ed99f16a0fb4fde0735e7ade8416ab9fe423cc5412336376789d172787ec3457eee41c04f4938de5cc17b4a10fa336a8d752adf'},\n",
       "  'sequence': 4294967295}]"
      ]
     },
     "execution_count": 127,
     "metadata": {},
     "output_type": "execute_result"
    }
   ],
   "source": [
    "p.decoderawtransaction(raw_tx).get('vin')"
   ]
  },
  {
   "cell_type": "code",
   "execution_count": 128,
   "id": "preceding-genius",
   "metadata": {},
   "outputs": [
    {
     "data": {
      "text/plain": [
       "[{'value': Decimal('0.01500000'),\n",
       "  'n': 0,\n",
       "  'scriptPubKey': {'asm': 'OP_DUP OP_HASH160 ab68025513c3dbd2f7b92a94e0581f5d50f654e7 OP_EQUALVERIFY OP_CHECKSIG',\n",
       "   'desc': 'addr(1GdK9UzpHBzqzX2A9JFP3Di4weBwqgmoQA)#ykrtxd0a',\n",
       "   'hex': '76a914ab68025513c3dbd2f7b92a94e0581f5d50f654e788ac',\n",
       "   'address': '1GdK9UzpHBzqzX2A9JFP3Di4weBwqgmoQA',\n",
       "   'type': 'pubkeyhash'}},\n",
       " {'value': Decimal('0.08450000'),\n",
       "  'n': 1,\n",
       "  'scriptPubKey': {'asm': 'OP_DUP OP_HASH160 7f9b1a7fb68d60c536c2fd8aeaa53a8f3cc025a8 OP_EQUALVERIFY OP_CHECKSIG',\n",
       "   'desc': 'addr(1Cdid9KFAaatwczBwBttQcwXYCpvK8h7FK)#e6ft626y',\n",
       "   'hex': '76a9147f9b1a7fb68d60c536c2fd8aeaa53a8f3cc025a888ac',\n",
       "   'address': '1Cdid9KFAaatwczBwBttQcwXYCpvK8h7FK',\n",
       "   'type': 'pubkeyhash'}}]"
      ]
     },
     "execution_count": 128,
     "metadata": {},
     "output_type": "execute_result"
    }
   ],
   "source": [
    "p.decoderawtransaction(raw_tx).get('vout')"
   ]
  },
  {
   "cell_type": "code",
   "execution_count": 129,
   "id": "electronic-attention",
   "metadata": {},
   "outputs": [
    {
     "data": {
      "text/plain": [
       "102"
      ]
     },
     "execution_count": 129,
     "metadata": {},
     "output_type": "execute_result"
    }
   ],
   "source": [
    "# Get fees\n",
    "import requests\n",
    "res = requests.get(\"https://bitcoinfees.earn.com/api/v1/fees/recommended\")\n",
    "\n",
    "import json\n",
    "parsed = json.loads(res.content)\n",
    "parsed.get('fastestFee')"
   ]
  },
  {
   "cell_type": "code",
   "execution_count": 130,
   "id": "civil-store",
   "metadata": {},
   "outputs": [],
   "source": [
    "# fees are implicit as the difference between the inputs and outputs"
   ]
  },
  {
   "cell_type": "markdown",
   "id": "accessible-hudson",
   "metadata": {},
   "source": [
    "## Script"
   ]
  },
  {
   "cell_type": "code",
   "execution_count": 233,
   "id": "handy-actress",
   "metadata": {},
   "outputs": [],
   "source": [
    "import hashlib\n",
    "\n",
    "from bitcoin import SelectParams\n",
    "from bitcoin.core import b2x, x, lx, COIN, COutPoint, CMutableTxOut, CMutableTxIn, CMutableTransaction, Hash160, CScriptWitness, CTxInWitness, CTxWitness\n",
    "from bitcoin.core.script import CScript, OP_16,OP_8, OP_2, OP_1ADD, OP_MUL, OP_ADD,OP_IF, OP_ELSE, OP_SHA256, OP_DUP, OP_HASH160, OP_EQUALVERIFY, OP_CHECKLOCKTIMEVERIFY, OP_CHECKSIG, SignatureHash, SIGHASH_ALL, OP_DROP, OP_ENDIF, SIGVERSION_WITNESS_V0\n",
    "from bitcoin.wallet import CBitcoinAddress, CBitcoinSecret, P2WSHBitcoinAddress"
   ]
  },
  {
   "cell_type": "code",
   "execution_count": 234,
   "id": "intimate-harris",
   "metadata": {},
   "outputs": [
    {
     "name": "stdout",
     "output_type": "stream",
     "text": [
      "b'v\\xa9!\\xc4\\xbb\\xcb\\x1f\\xbe\\xc9\\x9de\\xbfY\\xd8\\\\\\x8c\\xb6.\\xe2\\xdb\\x96?\\x0f\\xe1\\x06\\xf4\\x83\\xd9\\xaf\\xa7;\\xd4\\xe3\\x9a\\x8a\\x01\\x88\\xac'\n"
     ]
    }
   ],
   "source": [
    "SelectParams(\"regtest\")\n",
    "\n",
    "\n",
    "# Create the (in)famous correct brainwallet secret key.\n",
    "h = hashlib.sha256(b'correct horse battery staple').digest()\n",
    "seckey = CBitcoinSecret.from_secret_bytes(h)\n",
    "\n",
    "public_key = seckey.pub\n",
    "script_pubkey = CScript([OP_DUP, OP_HASH160,seckey, OP_EQUALVERIFY, OP_CHECKSIG])\n",
    "print(script_pubkey)"
   ]
  },
  {
   "cell_type": "markdown",
   "id": "loaded-rugby",
   "metadata": {},
   "source": [
    "## create private and public keys"
   ]
  },
  {
   "cell_type": "code",
   "execution_count": 251,
   "id": "registered-success",
   "metadata": {},
   "outputs": [
    {
     "name": "stdout",
     "output_type": "stream",
     "text": [
      "Address: bcrt1q08alc0e5ua69scxhvyma568nvguqccrvah6ml0\n"
     ]
    }
   ],
   "source": [
    "import hashlib\n",
    "\n",
    "from bitcoin import SelectParams\n",
    "from bitcoin.core import b2x, lx, COIN, COutPoint, CTxOut, CTxIn, CTxInWitness, CTxWitness, CScriptWitness, CMutableTransaction, Hash160\n",
    "from bitcoin.core.script import CScript, OP_0, SignatureHash, SIGHASH_ALL, SIGVERSION_WITNESS_V0\n",
    "from bitcoin.wallet import CBitcoinSecret, P2WPKHBitcoinAddress, CBitcoinAddress\n",
    "\n",
    "# regtest\n",
    "SelectParams(\"regtest\")\n",
    "\n",
    "\n",
    "# Create the (in)famous correct brainwallet secret key.\n",
    "h = hashlib.sha256(b'correct horse battery staple').digest()\n",
    "seckey = CBitcoinSecret.from_secret_bytes(h)\n",
    "\n",
    "public_key = seckey.pub\n",
    "script_pubkey = CScript([OP_0, Hash160(public_key)])\n",
    "address = P2WPKHBitcoinAddress.from_scriptPubKey(script_pubkey)\n",
    "\n",
    "print('Address:', str(address))"
   ]
  },
  {
   "cell_type": "code",
   "execution_count": 252,
   "id": "angry-cliff",
   "metadata": {},
   "outputs": [
    {
     "name": "stdout",
     "output_type": "stream",
     "text": [
      "010000000001012c9baa45dc5438be1befe1e1f32bd52a085f81d3e61622f09b675220b05de8ac0100000000ffffffff01c09ee6050000000016001462345bffdc94495344c121da050c696dc159bb6202483045022100eacb8d873fe6f974dbbaff84f344214247f3e7a4a6a9d7fd45417316331e40d30220449131932c6169246d1312734d8a67b41e20789dfa8bc7b8758921edc186eb3a01210378d430274f8c5ec1321338151e9f27f4c676a008bdf8638d07c0b6be9ab35c7100000000\n"
     ]
    }
   ],
   "source": [
    "# we are continuing the code from above\n",
    "\n",
    "txid = lx(\"ace85db02052679bf02216e6d3815f082ad52bf3e1e1ef1bbe3854dc45aa9b2c\")\n",
    "vout = 1\n",
    "\n",
    "# Specify the amount send to your P2WSH address.\n",
    "amount = int(1 * COIN)\n",
    "\n",
    "# Calculate an amount for the upcoming new UTXO. Set a high fee (5%) to bypass bitcoind minfee\n",
    "# setting on regtest.\n",
    "amount_less_fee = amount * 0.99\n",
    "\n",
    "# Create the txin structure, which includes the outpoint. The scriptSig defaults to being empty as\n",
    "# is necessary for spending a P2WSH output.\n",
    "txin = CTxIn(COutPoint(txid, vout))\n",
    "\n",
    "# Specify a destination address and create the txout.\n",
    "destination = CBitcoinAddress(\"bcrt1qvg69hl7uj3y4x3xpy8dq2rrfdhq4nwmzpx9s6y\").to_scriptPubKey()\n",
    "\n",
    "# Create the unsigned transaction.\n",
    "txin = CTxIn(COutPoint(txid, vout))\n",
    "txout = CTxOut(amount_less_fee, destination)\n",
    "tx = CMutableTransaction([txin], [txout])\n",
    "\n",
    "# Calculate the signature hash for that transaction.\n",
    "sighash = SignatureHash(\n",
    "    script=address.to_redeemScript(),\n",
    "    txTo=tx,\n",
    "    inIdx=0,\n",
    "    hashtype=SIGHASH_ALL,\n",
    "    amount=amount,\n",
    "    sigversion=SIGVERSION_WITNESS_V0,\n",
    ")\n",
    "signature = seckey.sign(sighash) + bytes([SIGHASH_ALL])\n",
    "\n",
    "# Construct a witness for this transaction input. The public key is given in\n",
    "# the witness so that the appropriate redeemScript can be calculated by\n",
    "# anyone. The original scriptPubKey had only the Hash160 hash of the public\n",
    "# key, not the public key itself, and the redeem script can be entirely\n",
    "# re-constructed (from implicit template) if given just the public key. So the\n",
    "# public key is added to the witness. This is P2WPKH in bip141.\n",
    "witness = [signature, public_key]\n",
    "\n",
    "# Aggregate all of the witnesses together, and then assign them to the\n",
    "# transaction object.\n",
    "ctxinwitnesses = [CTxInWitness(CScriptWitness(witness))]\n",
    "tx.wit = CTxWitness(ctxinwitnesses)\n",
    "\n",
    "# Done! Print the transaction\n",
    "print(b2x(tx.serialize()))\n",
    "# outputs: 010000000001012c9baa45dc5438be1befe1e1f32bd52a085f81d3e61622f09b675220b05de8ac0100000000ffffffff01c09ee6050000000016001462345bffdc94495344c121da050c696dc159bb6202473044022010440396a713c45ef4600521f26fa5af3324ebda16fc451c56fe72366cc4817c022047bce51f6b7ac97972f2612cd3c165774cfedb71b193367afe3f7a718524bb2301210378d430274f8c5ec1321338151e9f27f4c676a008bdf8638d07c0b6be9ab35c7100000000\n"
   ]
  },
  {
   "cell_type": "code",
   "execution_count": null,
   "id": "involved-board",
   "metadata": {},
   "outputs": [],
   "source": []
  }
 ],
 "metadata": {
  "kernelspec": {
   "display_name": "Python 3",
   "language": "python",
   "name": "python3"
  },
  "language_info": {
   "codemirror_mode": {
    "name": "ipython",
    "version": 3
   },
   "file_extension": ".py",
   "mimetype": "text/x-python",
   "name": "python",
   "nbconvert_exporter": "python",
   "pygments_lexer": "ipython3",
   "version": "3.9.2"
  }
 },
 "nbformat": 4,
 "nbformat_minor": 5
}
